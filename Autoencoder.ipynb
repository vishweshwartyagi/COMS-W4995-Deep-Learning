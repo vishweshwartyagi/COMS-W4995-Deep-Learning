{
  "cells": [
    {
      "cell_type": "markdown",
      "metadata": {
        "id": "QL9tn_6NGgRD"
      },
      "source": [
        "Autencoder Implementation using Keras\n"
      ]
    },
    {
      "cell_type": "markdown",
      "metadata": {
        "id": "NNEosiGpGk7Q"
      },
      "source": [
        "Step 1: Importing the Required Libraries"
      ]
    },
    {
      "cell_type": "code",
      "execution_count": 1,
      "metadata": {
        "id": "pA9TcqOXGkJj"
      },
      "outputs": [],
      "source": [
        "import numpy as np\n",
        "import matplotlib.pyplot as plt\n",
        "from random import randint\n",
        "from keras import backend as K\n",
        "from keras.layers import Input, Dense, Conv2D, MaxPooling2D, UpSampling2D\n",
        "from keras.models import Model\n",
        "from keras.datasets import mnist\n",
        "from keras.callbacks import TensorBoard"
      ]
    },
    {
      "cell_type": "markdown",
      "metadata": {
        "id": "K9cyzHl9G1Xd"
      },
      "source": [
        "Step 2: Loading the Data (Utility function)\n",
        "\n",
        "Here too, we're using MNIST data. Run the code below to load the data and clean it (convert, scale and reshape)."
      ]
    },
    {
      "cell_type": "code",
      "execution_count": 2,
      "metadata": {
        "id": "rsYyXZebGx66"
      },
      "outputs": [],
      "source": [
        "def load_data():\n",
        "\tinput_image = Input(shape =(28, 28, 1))\n",
        "\t(X_train, _), (X_test, _) = mnist.load_data()\n",
        " \n",
        "\tX_train = X_train.astype('float32') / 255.\n",
        "\tX_train = np.reshape(X_train, (len(X_train), 28, 28, 1))\n",
        "\tX_test = X_test.astype('float32') / 255.\n",
        "\tX_test = np.reshape(X_test, (len(X_test), 28, 28, 1))\n",
        "\t\n",
        "\treturn X_train, X_test, input_image"
      ]
    },
    {
      "cell_type": "markdown",
      "metadata": {
        "id": "HLw0SSyWHKT0"
      },
      "source": [
        "Step 3: Building the Network\n",
        "\n",
        "In the function build_network, we stack up layers to construct the encoder and decoder separately. You will need to add layers to the encoder as described below:\n",
        "3 convolutional layers (activation function would be ReLU) and 3 max pooling layers to compliment it. \n",
        "\n",
        "The decoder takes the output of the last max pooling layer of the encoder as the input. It too has 3 convolutional layers (activation function would be ReLU) and 3 upsampling layers. "
      ]
    },
    {
      "cell_type": "code",
      "execution_count": 3,
      "metadata": {
        "id": "uLE3CmLIHHI6"
      },
      "outputs": [],
      "source": [
        "def build_network(input_image):\n",
        "\t\n",
        "\t'''INSERT YOUR CODE HERE FOR CONSTRUCITNG THE ENCODER AND DECODER'''\n",
        "\tlayer = Conv2D(16, (3, 3), activation ='relu', padding ='same')(input_image)\n",
        "\tlayer = MaxPooling2D((2, 2), padding ='same')(layer)\n",
        "\tlayer = Conv2D(8, (3, 3), activation ='relu', padding ='same')(layer)\n",
        "\tlayer = MaxPooling2D((2, 2), padding ='same')(layer)\n",
        "\tlayer = Conv2D(8, (3, 3), activation ='relu', padding ='same')(layer)\n",
        "\tencoded_layer = MaxPooling2D((2, 2), padding ='same')(layer)\n",
        "\t\t\n",
        "\tlayer = Conv2D(8, (3, 3), activation ='relu', padding ='same')(encoded_layer)\n",
        "\tlayer = UpSampling2D((2, 2))(layer)\n",
        "\tlayer = Conv2D(8, (3, 3), activation ='relu', padding ='same')(layer)\n",
        "\tlayer = UpSampling2D((2, 2))(layer)\n",
        "\tlayer = Conv2D(16, (3, 3), activation ='relu')(layer)\n",
        "\tlayer = UpSampling2D((2, 2))(layer)\n",
        "\tdecoded_layer = Conv2D(1, (3, 3), activation ='sigmoid', padding ='same')(layer)\n",
        "\n",
        "\treturn decoded_layer"
      ]
    },
    {
      "cell_type": "markdown",
      "metadata": {
        "id": "KxC-Y6CvJQ-C"
      },
      "source": [
        "Step 4: Building and Training the Network\n",
        "\n",
        "Modify the epochs and batch size to best work with the model and data. "
      ]
    },
    {
      "cell_type": "code",
      "execution_count": 4,
      "metadata": {
        "id": "cUI5U0GPJO6e"
      },
      "outputs": [],
      "source": [
        "def build_auto_encoder_model(X_train, X_test, input_image, decoded_layer):\n",
        "\t\n",
        "\t#Define the autoencoder parameters\n",
        "\tautoencoder = Model(input_image, decoded_layer)\n",
        "\tautoencoder.compile(optimizer ='adam', loss ='binary_crossentropy')\n",
        "\n",
        "\tautoencoder.fit(X_train, X_train,\n",
        "\t\t\t\tepochs = 20,\n",
        "\t\t\t\tbatch_size = 256,\n",
        "\t\t\t\tshuffle = True,\n",
        "\t\t\t\tvalidation_data =(X_test, X_test),\n",
        "\t\t\t\tcallbacks =[TensorBoard(log_dir ='/tmp / autoencoder')])\n",
        "\t\n",
        "\treturn autoencoder"
      ]
    },
    {
      "cell_type": "markdown",
      "metadata": {
        "id": "AxKaXOU2Jd1G"
      },
      "source": [
        "Step 5: Visualisation\n"
      ]
    },
    {
      "cell_type": "code",
      "execution_count": 5,
      "metadata": {
        "id": "kaoWlfRuJVcD"
      },
      "outputs": [],
      "source": [
        "def visualize(model, X_test):\n",
        "\t\n",
        "\treconstructed_images = model.predict(X_test)\n",
        "\t\n",
        "\tplt.figure(figsize =(20, 4))\n",
        "\tfor i in range(1, 11):\n",
        "\t\trand_num = randint(0, 10001)\n",
        "\t\tax = plt.subplot(2, 10, i)\n",
        "\t\tplt.imshow(X_test[rand_num].reshape(28, 28))\n",
        "\t\tplt.gray()\n",
        "\t\tax.get_xaxis().set_visible(False)\n",
        "\t\tax.get_yaxis().set_visible(False)\n",
        "\n",
        "\t\t#Displaying reconstructed image\n",
        "\t\tax = plt.subplot(2, 10, i + 10)\n",
        "\t\tplt.imshow(reconstructed_images[rand_num].reshape(28, 28))\n",
        "\t\tplt.gray()\n",
        "\t\tax.get_xaxis().set_visible(False)\n",
        "\t\tax.get_yaxis().set_visible(False)\n",
        "\n",
        "\tplt.show()"
      ]
    },
    {
      "cell_type": "markdown",
      "metadata": {
        "id": "4UYpnbctJkF4"
      },
      "source": [
        "Final Run\n",
        "\n",
        "Write code to load data, build the network and visualise what's going on. These will be direct function calls!"
      ]
    },
    {
      "cell_type": "code",
      "execution_count": 6,
      "metadata": {
        "colab": {
          "base_uri": "https://localhost:8080/"
        },
        "id": "ZebeyoHPKL4M",
        "outputId": "cc53031a-75c6-4c7a-9e2c-a12ffbe800bc"
      },
      "outputs": [
        {
          "output_type": "stream",
          "name": "stdout",
          "text": [
            "Epoch 1/20\n",
            "235/235 [==============================] - 4s 8ms/step - loss: 0.2613 - val_loss: 0.1764\n",
            "Epoch 2/20\n",
            "235/235 [==============================] - 2s 7ms/step - loss: 0.1608 - val_loss: 0.1475\n",
            "Epoch 3/20\n",
            "235/235 [==============================] - 2s 7ms/step - loss: 0.1415 - val_loss: 0.1343\n",
            "Epoch 4/20\n",
            "235/235 [==============================] - 2s 7ms/step - loss: 0.1321 - val_loss: 0.1277\n",
            "Epoch 5/20\n",
            "235/235 [==============================] - 2s 7ms/step - loss: 0.1266 - val_loss: 0.1229\n",
            "Epoch 6/20\n",
            "235/235 [==============================] - 2s 7ms/step - loss: 0.1224 - val_loss: 0.1199\n",
            "Epoch 7/20\n",
            "235/235 [==============================] - 2s 7ms/step - loss: 0.1191 - val_loss: 0.1166\n",
            "Epoch 8/20\n",
            "235/235 [==============================] - 2s 7ms/step - loss: 0.1166 - val_loss: 0.1143\n",
            "Epoch 9/20\n",
            "235/235 [==============================] - 2s 7ms/step - loss: 0.1145 - val_loss: 0.1125\n",
            "Epoch 10/20\n",
            "235/235 [==============================] - 2s 7ms/step - loss: 0.1129 - val_loss: 0.1110\n",
            "Epoch 11/20\n",
            "235/235 [==============================] - 2s 7ms/step - loss: 0.1115 - val_loss: 0.1095\n",
            "Epoch 12/20\n",
            "235/235 [==============================] - 2s 7ms/step - loss: 0.1100 - val_loss: 0.1081\n",
            "Epoch 13/20\n",
            "235/235 [==============================] - 2s 7ms/step - loss: 0.1088 - val_loss: 0.1070\n",
            "Epoch 14/20\n",
            "235/235 [==============================] - 2s 7ms/step - loss: 0.1078 - val_loss: 0.1066\n",
            "Epoch 15/20\n",
            "235/235 [==============================] - 2s 7ms/step - loss: 0.1070 - val_loss: 0.1057\n",
            "Epoch 16/20\n",
            "235/235 [==============================] - 2s 7ms/step - loss: 0.1060 - val_loss: 0.1045\n",
            "Epoch 17/20\n",
            "235/235 [==============================] - 2s 7ms/step - loss: 0.1054 - val_loss: 0.1041\n",
            "Epoch 18/20\n",
            "235/235 [==============================] - 2s 7ms/step - loss: 0.1048 - val_loss: 0.1036\n",
            "Epoch 19/20\n",
            "235/235 [==============================] - 2s 7ms/step - loss: 0.1041 - val_loss: 0.1040\n",
            "Epoch 20/20\n",
            "235/235 [==============================] - 2s 6ms/step - loss: 0.1036 - val_loss: 0.1024\n"
          ]
        }
      ],
      "source": [
        "'''INSERT YOUR CODE FOR THE FUNCTION CALLS HERE'''\n",
        "X_train, X_test, input_image = load_data()\n",
        "decoded_layer = build_network(input_image)\n",
        "auto_encoder_model = build_auto_encoder_model(X_train, X_test, input_image, decoded_layer)"
      ]
    },
    {
      "cell_type": "code",
      "source": [
        "visualize(auto_encoder_model, X_test)\n"
      ],
      "metadata": {
        "colab": {
          "base_uri": "https://localhost:8080/",
          "height": 229
        },
        "id": "nwoyEgOwGADE",
        "outputId": "9165c647-6c22-4e32-c1c1-6eea640975de"
      },
      "execution_count": 7,
      "outputs": [
        {
          "output_type": "display_data",
          "data": {
            "image/png": "[encoded data removed]",
            "text/plain": [
              "<Figure size 1440x288 with 20 Axes>"
            ]
          },
          "metadata": {
            "needs_background": "light"
          }
        }
      ]
    }
  ],
  "metadata": {
    "colab": {
      "name": "DL_VAE_ans.ipynb",
      "provenance": [],
      "collapsed_sections": [],
      "machine_shape": "hm"
    },
    "kernelspec": {
      "display_name": "Python 3",
      "language": "python",
      "name": "python3"
    },
    "language_info": {
      "codemirror_mode": {
        "name": "ipython",
        "version": 3
      },
      "file_extension": ".py",
      "mimetype": "text/x-python",
      "name": "python",
      "nbconvert_exporter": "python",
      "pygments_lexer": "ipython3",
      "version": "3.9.5"
    },
    "accelerator": "GPU"
  },
  "nbformat": 4,
  "nbformat_minor": 0
}